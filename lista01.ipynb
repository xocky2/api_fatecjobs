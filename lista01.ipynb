{
  "nbformat": 4,
  "nbformat_minor": 0,
  "metadata": {
    "colab": {
      "name": "lista01.ipynb",
      "provenance": [],
      "collapsed_sections": [],
      "authorship_tag": "ABX9TyNSe5rPDeFLXzQRTVCyqURa",
      "include_colab_link": true
    },
    "kernelspec": {
      "name": "python3",
      "display_name": "Python 3"
    },
    "language_info": {
      "name": "python"
    }
  },
  "cells": [
    {
      "cell_type": "markdown",
      "metadata": {
        "id": "view-in-github",
        "colab_type": "text"
      },
      "source": [
        "<a href=\"https://colab.research.google.com/github/xocky2/api_fatecjobs/blob/master/lista01.ipynb\" target=\"_parent\"><img src=\"https://colab.research.google.com/assets/colab-badge.svg\" alt=\"Open In Colab\"/></a>"
      ]
    },
    {
      "cell_type": "markdown",
      "source": [
        "1 – Elaborar um programa que receba o nome de um cliente, seu endereço, valor de uma\n",
        "compras e data de entrega. O programa deve exibir o seguinte texto (apresentar na tela a\n",
        "mesma formatação):\n"
      ],
      "metadata": {
        "id": "Ksne4b3DA7UY"
      }
    },
    {
      "cell_type": "code",
      "execution_count": null,
      "metadata": {
        "id": "1JsaK6sRA1nX"
      },
      "outputs": [],
      "source": [
        "name = input(\"Digite seu nome:\\n \")\n",
        "address = input(\"Digite seu endereço:\\n \")\n",
        "price = float(input(\"Digite o preço de uma compra:\\n \"))\n",
        "delivery_date = input(\"Digite a data de entrega:\\n \")\n",
        "\n",
        "print(\"Caro cliente Sr(a) {0}, os produtos da sua compra no valor de R${1} serão entregues no endereço abaixo: \\nRua {2}.\\nData da entrega: {3}.\\n******************************Obrigado pela Preferência!**************************\".format(name,price,address,delivery_date))"
      ]
    },
    {
      "cell_type": "markdown",
      "source": [
        "2 – Crie um programa para o cálculo do IMC de uma pessoa. Exibir mensagens de acordo coma faixa de valores encontrada: \n",
        "\n",
        "Menor que 16,5 = Desnutrição\n",
        "\n",
        "16,6 a 18,5 = Abaixo do peso\n",
        "\n",
        "18,6 a 24,9 = Peso normal\n",
        "\n",
        "de 25 a 29,9 = Sobrepeso\n",
        "\n",
        "maior ou igual a 30 = Obesidade"
      ],
      "metadata": {
        "id": "-_QLR_F6GImG"
      }
    },
    {
      "cell_type": "code",
      "source": [
        "weight = float(input(\"Digite o seu peso(em kg):\\n \"))\n",
        "height = float(input(\"Digite sua altura (em metros):\\n \"))\n",
        "imc = weight / height**2\n",
        "print(\"Peso: {}\\nAltura: {}\\nIMC: {}\".format(weight,height,imc))\n",
        "if(imc<=16.5):\n",
        "  print(\"Desnutrição\")\n",
        "elif(imc<=18.5):\n",
        "  print(\"Abaixo do peso\")\n",
        "elif(imc<=24.9):\n",
        "  print(\"Peso normal\")\n",
        "elif(imc<=29.9):  \n",
        "  print(\"Sobrepeso\")\n",
        "elif(imc>=30):\n",
        "  print(\"Ta fort pô\")"
      ],
      "metadata": {
        "id": "YLA7OKM0GKQQ"
      },
      "execution_count": null,
      "outputs": []
    },
    {
      "cell_type": "markdown",
      "source": [
        "3 – Crie um programa que leia dois números reais e apresente um menu com as opções:\n",
        "\n",
        "1 - Somar\n",
        "\n",
        "2 - Subtrair\n",
        "\n",
        "3 - Multiplicar\n",
        "\n",
        "4 - Dividir\n",
        "\n",
        "Caso a linguagem escolhida tenha suporte, exibir o resultado em uma tela gráfica."
      ],
      "metadata": {
        "id": "U23Fg8pLL-iD"
      }
    },
    {
      "cell_type": "code",
      "source": [
        "num1 = float(input(\"Digite o primeiro número\\n\"))\n",
        "num2  = float(input(\"Digite o segundo número\\n\"))\n",
        "opt = int(input(\"Digite número correspondente a operação desejada: \\n1 - Somar\\n2 - Subtrair\\n3 - Multiplicar\\n4 - Dividir\\n\"))\n",
        "\n",
        "if(opt == 1):\n",
        "  print(\"O resultado de  {} + {}  = {}\".format(num1,num2,num1+num2))\n",
        "elif(opt == 2):\n",
        "  print(\"O resultado de  {} - {}  = {}\".format(num1,num2,num1-num2))\n",
        "elif(opt == 3):\n",
        "  print(\"O resultado de  {} X {}  = {}\".format(num1,num2,num1*num2))\n",
        "elif(opt == 4):\n",
        "  print(\"O resultado de  {} ÷ {}  = {}\".format(num1,num2,num1/num2))\n",
        "else:\n",
        "  print(\"Opção inválida\")\n"
      ],
      "metadata": {
        "id": "PqUYO0ngMEvP"
      },
      "execution_count": null,
      "outputs": []
    },
    {
      "cell_type": "markdown",
      "source": [
        "4 – Criar um programa que escreva os números de 1 a 1000 na te"
      ],
      "metadata": {
        "id": "BQbP9tMOP9S6"
      }
    },
    {
      "cell_type": "code",
      "source": [
        "for i in range(1,101,1):\n",
        "  print(i)"
      ],
      "metadata": {
        "id": "WLV5gGvNQAWz"
      },
      "execution_count": null,
      "outputs": []
    },
    {
      "cell_type": "markdown",
      "source": [
        "5 – Crie um programa que receba dois números inteiros e diferentes, maiores do que 0. Exiba as\n",
        "tabuadas de todos os números do intervalo (Ex. Números digitados: 3 e 7 → exibirá as tabuadas\n",
        "do 3, 4, 5, 6 e 7). O resultado deve ser exibido no terminal.\n"
      ],
      "metadata": {
        "id": "iR0fzcNoQcWE"
      }
    },
    {
      "cell_type": "code",
      "source": [
        "num1 =int(input(\"Digite o primeiro número:\\n\"))\n",
        "num2 =int(input(\"Digite o segundo número:\\n\"))\n",
        "cond = ()\n",
        "maior = num1\n",
        "menor = num2\n",
        "if(num2 > num1):\n",
        "  maior = num2\n",
        "  menor = num1\n",
        "for i in range(menor,maior+1,1):\n",
        "  for x in range(1,11,1):\n",
        "    print(\"{} X {} = {}\".format(i,x,i*x))\n",
        "  print(\"________________________\")"
      ],
      "metadata": {
        "id": "5uFUgn9pQi8a"
      },
      "execution_count": null,
      "outputs": []
    },
    {
      "cell_type": "markdown",
      "source": [
        "6 – Crie um programa que receba um número n (inteiro e maior do que 1) como entrada e\n",
        "retorne se é um número é primo ou não.\n"
      ],
      "metadata": {
        "id": "bRybsZWfTJ-Q"
      }
    },
    {
      "cell_type": "code",
      "source": [
        "num = int(input(\"Digite um número\\n\"))\n",
        "m = 0\n",
        "for count in range(2,num):\n",
        "    if (num % count == 0):\n",
        "        m += 1\n",
        "\n",
        "if(m==0):\n",
        "  print(\"É primo\")\n",
        "else:\n",
        "  print(\"Não é primo\")"
      ],
      "metadata": {
        "id": "ClY_9MySTK5f"
      },
      "execution_count": null,
      "outputs": []
    },
    {
      "cell_type": "markdown",
      "source": [
        "7 – Desenvolver um algoritmo que simule um jogo de adivinhação: O jogador insere números na\n",
        "tentativa de acertar o número sorteado entre 0 e 9 pelo algoritmo. Quando acertar, o programa\n",
        "deve informar que ele acertou o número x (sorteado) em x tentativas (quantidade de tentativas\n",
        "do jogador). Verificar como é realizada a geração de números aleatórios na linguagem\n",
        "escolhida."
      ],
      "metadata": {
        "id": "fKNay_1MURvC"
      }
    },
    {
      "cell_type": "code",
      "source": [
        "import random\n",
        "ran = random.randint(0, 9)\n",
        "beat = int(input(\"Chute um número entre 0 e 9\\n\"))\n",
        "attempt = 0\n",
        "while (beat != ran):\n",
        "  attempt+= 1\n",
        "  beat = int(input(\"Chute um número entre 0 e 9\\n\"))\n",
        "print(\"O número aleatório é {}\".format(ran))\n",
        "print(\"Você acertou em {} tentativas\".format(attempt))"
      ],
      "metadata": {
        "id": "gioeTgTFUVs9"
      },
      "execution_count": null,
      "outputs": []
    },
    {
      "cell_type": "markdown",
      "source": [
        "8 – Pesquisar o algoritmo de validação de CPF e implemente-o"
      ],
      "metadata": {
        "id": "VhglATAqUWwe"
      }
    },
    {
      "cell_type": "code",
      "source": [
        "def validate(cpf: str) -> bool:\n",
        "    numbers = [int(digit) for digit in cpf if digit.isdigit()]\n",
        "    if len(numbers) != 11 or len(set(numbers)) == 1:\n",
        "        return False\n",
        "    sum_of_products = sum(a*b for a, b in zip(numbers[0:9], range(10, 1, -1)))\n",
        "    expected_digit = (sum_of_products * 10 % 11) % 10\n",
        "    if numbers[9] != expected_digit:\n",
        "        return False\n",
        "\n",
        "    sum_of_products = sum(a*b for a, b in zip(numbers[0:10], range(11, 1, -1)))\n",
        "    expected_digit = (sum_of_products * 10 % 11) % 10\n",
        "    if numbers[10] != expected_digit:\n",
        "        return False\n",
        "    return True\n",
        "cpf = input(\"Digite os números do seu CPF\\n\")\n",
        "if(validate(cpf)): \n",
        "  print(\"Válido\") \n",
        "else: \n",
        "  print(\"Inválido\")"
      ],
      "metadata": {
        "id": "UW736jCTUZXh"
      },
      "execution_count": null,
      "outputs": []
    },
    {
      "cell_type": "markdown",
      "source": [
        "9 – Implemente um programa para o cálculo de Fatorial, utilizando o conceito de recursividade."
      ],
      "metadata": {
        "id": "nkq70aSBaME5"
      }
    },
    {
      "cell_type": "code",
      "source": [
        "def fatorial(x):\n",
        "    if x==1:\n",
        "        return 1\n",
        "    else:\n",
        "        return x * fatorial(x-1)\n",
        "\n",
        "x = int(input(\"Fatorial de: \"))\n",
        "print(\"Fatorial: \",fatorial(x) )"
      ],
      "metadata": {
        "id": "d9SrJZ3UaNzV"
      },
      "execution_count": null,
      "outputs": []
    },
    {
      "cell_type": "markdown",
      "source": [
        "10 – Criar um programa que solicite um \"login\" e uma \"senha\".\n",
        "Se o login for igual a \"IFSP\" e a senha for igual a \"PosWEB\", exibir a mensagem \"Login efetuado\n",
        "com sucesso\". Se o usuário errar a senha 3 vezes seguidas, informar \"Acesso negado\""
      ],
      "metadata": {
        "id": "pwtoJbnAaGjG"
      }
    },
    {
      "cell_type": "code",
      "source": [
        "for i in range(1,4,1):\n",
        "  login = input(\"Login: \")\n",
        "  senha = input(\"Senha: \")\n",
        "  if (login =='IFSP' and senha =='PosWEB'):\n",
        "    print(\"Login Efetuado com sucesso\")\n",
        "    break\n",
        "if(i == 3): print(\"Acesso negado\")"
      ],
      "metadata": {
        "id": "5XAY-b_haJcN"
      },
      "execution_count": null,
      "outputs": []
    },
    {
      "cell_type": "markdown",
      "source": [
        "11 – Criar um programa que leia um vetor de números inteiros com 10 posições.\n",
        "Exibir quantos números pares e quantos números ímpares foram informados. Exibir também a\n",
        "soma dos números pares e a média dos números ímpares."
      ],
      "metadata": {
        "id": "hzLHGh-CiRRG"
      }
    },
    {
      "cell_type": "code",
      "source": [
        "pares = 0\n",
        "impares = 0\n",
        "v1= []\n",
        "vpar = []\n",
        "vimpar = []\n",
        "for i in range(10):\n",
        "  num = int(input(\"Digite um número: \\n\"))\n",
        "  if(num % 2 == 0):\n",
        "    vpar.append(num)\n",
        "    pares+= 1\n",
        "  else:\n",
        "    vimpar.append(num)\n",
        "    impares+=1\n",
        "  v1.append(num)\n",
        "somaPar = 0\n",
        "for i in range(len(vpar)):\n",
        "  somaPar+= vpar[i]\n",
        "somaImpar = 0\n",
        "for i in range(len(vimpar)):\n",
        "  somaImpar+=vimpar[i]\n",
        "media = somaImpar / (len(vimpar))\n",
        "print(\"Números pares: {}\\nNúmeros ímpares {}\".format(pares,impares))\n",
        "print(\"A soma dos números pares é {}\\nA média dos números ímpares é {}\".format(somaPar,media))\n"
      ],
      "metadata": {
        "id": "ZvXAU0WRdq-p"
      },
      "execution_count": null,
      "outputs": []
    },
    {
      "cell_type": "markdown",
      "source": [
        "12 – Criar um programa que preencha um Vetor de 1000 posições com números aleatórios.\n",
        "Exibir a porcentagem de números maiores ou iguais a 700 existentes no vetor."
      ],
      "metadata": {
        "id": "BQUElWIciV4m"
      }
    },
    {
      "cell_type": "code",
      "source": [
        "import random\n",
        "vrandom = []\n",
        "cond = 0\n",
        "for i in range(1000):\n",
        "  x = random.randint(0, 1000)\n",
        "  vrandom.append(x)\n",
        "  if(x >= 700):\n",
        "    cond+= 1\n",
        "porcentagem = (cond * 100) / 1000\n",
        "print(\"A porcentagem de números maiores ou iguais a 700 é: {}%\".format(porcentagem))"
      ],
      "metadata": {
        "id": "O8adSfHudt0F"
      },
      "execution_count": null,
      "outputs": []
    },
    {
      "cell_type": "markdown",
      "source": [
        "13 – Criar um programa que preenche uma Matriz de 10 linhas com 10 colunas. Exibir a matriz\n",
        "na tela. O programa deve então gerar uma segunda matriz que tem como base a primeira:\n",
        "Se o número da linha for igual ao número da coluna, colocar o valor \"1\" na posição.\n",
        "Se o número da linha for menor que o número da coluna, colocar o valor \"0\".\n",
        "Se o número da linha for maior que o número da coluna, colocar o valor \"2\".\n",
        "Exibir a segunda matriz na tela."
      ],
      "metadata": {
        "id": "J86UY51liX_t"
      }
    },
    {
      "cell_type": "code",
      "source": [
        "import random\n",
        "m1 = []\n",
        "for l in range(10):\n",
        "  linha = []\n",
        "  for c in range(10):\n",
        "    x = random.randint(0, 9)\n",
        "    linha.append(x)\n",
        "  m1.append(linha)\n",
        "\n",
        "for i in range(10):\n",
        "  print(m1[i])\n",
        "\n",
        "m2 = []\n",
        "for l in range(10):\n",
        "  linha = []\n",
        "  for c in range(10):\n",
        "    num = 0\n",
        "    if (l == c):\n",
        "      num = 1\n",
        "    elif (l < c):\n",
        "      num = 0\n",
        "    else:\n",
        "      num = 2\n",
        "    linha.append(num)\n",
        "  m2.append(linha)\n",
        "\n",
        "print(\"\\n--------------------------------------------------------------\\n\")\n",
        "\n",
        "for i in range(10):\n",
        "  print(m2[i])"
      ],
      "metadata": {
        "id": "5EqJWfgng8d6"
      },
      "execution_count": null,
      "outputs": []
    },
    {
      "cell_type": "markdown",
      "source": [
        "14 – Criar um programa que leia uma matriz 3x4 (3 linhas e 4 colunas). Exibir a matriz informada\n",
        "e sua Transposta."
      ],
      "metadata": {
        "id": "rFoBJDP3iZJm"
      }
    },
    {
      "cell_type": "code",
      "source": [
        "m = []\n",
        "for l in range(3):\n",
        "  linha = []\n",
        "  for c in range(4):\n",
        "    n = int(input(\"M[{}][{}]: \".format(l,c)))\n",
        "    linha.append(n)\n",
        "  m.append(linha)\n",
        "for i in range(3):\n",
        "  print(m[i])\n",
        "\n",
        "mtrans = []\n",
        "for l in range(4):\n",
        "  linha = []\n",
        "  for c in range (3):\n",
        "    n = m[c][l]\n",
        "    linha.append(n)\n",
        "  mtrans.append(linha)\n",
        "\n",
        "for i in range(4):\n",
        "  print(mtrans[i])"
      ],
      "metadata": {
        "colab": {
          "base_uri": "https://localhost:8080/"
        },
        "id": "m_nRBm65iEwO",
        "outputId": "8334ac2b-ef4a-47cb-8ebe-cec62a0fcee0"
      },
      "execution_count": null,
      "outputs": [
        {
          "output_type": "stream",
          "name": "stdout",
          "text": [
            "M[0][0]: 1\n",
            "M[0][1]: 2\n",
            "M[0][2]: 3\n",
            "M[0][3]: 4\n",
            "M[1][0]: 5\n",
            "M[1][1]: 6\n",
            "M[1][2]: 7\n",
            "M[1][3]: 8\n",
            "M[2][0]: 9\n",
            "M[2][1]: 10\n",
            "M[2][2]: 11\n",
            "M[2][3]: 12\n",
            "[1, 2, 3, 4]\n",
            "[5, 6, 7, 8]\n",
            "[9, 10, 11, 12]\n",
            "[1, 5, 9]\n",
            "[2, 6, 10]\n",
            "[3, 7, 11]\n",
            "[4, 8, 12]\n"
          ]
        }
      ]
    },
    {
      "cell_type": "markdown",
      "source": [
        "15 – Exibir uma matriz com os números de 1 a 100, adicionando uma marca (ex: asterisco) em\n",
        "todos os números primos. (Crivo de Eratóstenes)"
      ],
      "metadata": {
        "id": "WMGg-K6Uiaaa"
      }
    },
    {
      "cell_type": "code",
      "source": [
        "def primo(num):\n",
        "  m = 0\n",
        "  for count in range(2,num):\n",
        "      if (num % count == 0):\n",
        "          m += 1\n",
        "  if(m == 0):\n",
        "      return True\n",
        "  else:\n",
        "      return False\n",
        "mat = []\n",
        "count = 0\n",
        "for l in range(10):\n",
        "  linha = []\n",
        "  for c in range(10):\n",
        "    count+= 1\n",
        "    if primo(count):\n",
        "      linha.append(\"*\")\n",
        "    else:\n",
        "      linha.append(count)\n",
        "  mat.append(linha)\n",
        "\n",
        "for i in range(10):\n",
        "  print(mat[i])"
      ],
      "metadata": {
        "id": "hEH2_bmHkXdg"
      },
      "execution_count": null,
      "outputs": []
    },
    {
      "cell_type": "markdown",
      "source": [
        "16 – Ler uma matriz 3x3 e exibir o valor do seu Determinante. Criar o algoritmo de acordo com a\n",
        "regra de Sarrus"
      ],
      "metadata": {
        "id": "y5vDONbDiboO"
      }
    },
    {
      "cell_type": "code",
      "source": [
        "m = []\n",
        "for l in range(3):\n",
        "  linha = []\n",
        "  for c in range(3):\n",
        "    num = int(input(\"M[{}][{}]: \".format(l,c)))\n",
        "    linha.append(num)\n",
        "  m.append(linha)\n",
        "\n",
        "for i in range(3):\n",
        "  print(m[i])\n",
        "\n",
        "det = m[0][0] * m[1][1] * m[2][2] + m[0][1] * m[1][2] * m[2][0] + m[0][2] * m[1][0] * m[2][1] - m[0][2] * m[1][1] * m[2][0] - m[0][0] * m[1][2] * m[2][1] - m[0][1] * m[1][0] * m[2][2]\n",
        "\n",
        "print(\"O determinante da matriz é {}\".format(det))"
      ],
      "metadata": {
        "id": "NZ4qlAEglrEN"
      },
      "execution_count": null,
      "outputs": []
    },
    {
      "cell_type": "markdown",
      "source": [
        "17 – Criar um programa que receba 10 valores inteiros e armazene-os em um vetor. Exibir o\n",
        "vetor ordenado de maneira crescente e também de maneira decrescente. (Realizar a ordenação\n",
        "usando um algoritmo de ordenação – Não utilizar funções prontas se existirem na linguagem\n",
        "escolhida)"
      ],
      "metadata": {
        "id": "lVP9PLAaic4X"
      }
    },
    {
      "cell_type": "code",
      "source": [
        "def asc(vetor):\n",
        "  for final in range(len(vetor), 0, -1):\n",
        "        exchanging = False\n",
        "\n",
        "        for current in range(0, final - 1):\n",
        "            if vetor[current] > vetor[current + 1]:\n",
        "                vetor[current + 1], vetor[current] = vetor[current], vetor[current + 1]\n",
        "                exchanging = True\n",
        "\n",
        "        if not exchanging:\n",
        "            break\n",
        "\n",
        "def desc(vetor):\n",
        "  for final in range(len(vetor), 0, -1):\n",
        "        exchanging = False\n",
        "        for current in range(0, final - 1):\n",
        "            if vetor[current] < vetor[current + 1]:\n",
        "                vetor[current + 1], vetor[current] = vetor[current], vetor[current + 1]\n",
        "                exchanging = True\n",
        "\n",
        "        if not exchanging:\n",
        "            break\n",
        "vetor = []\n",
        "for i in range(10):\n",
        "  n = int(input(\"Num : \\n\"))\n",
        "  vetor.append(n)\n",
        "print(vetor)\n",
        "asc(vetor)4\n",
        "print(vetor)\n",
        "desc(vetor)\n",
        "print(vetor)\n"
      ],
      "metadata": {
        "colab": {
          "base_uri": "https://localhost:8080/"
        },
        "id": "II2Mcb-3qqt8",
        "outputId": "ebff38ae-6630-4627-f0fb-8a833d951e86"
      },
      "execution_count": null,
      "outputs": [
        {
          "output_type": "stream",
          "name": "stdout",
          "text": [
            "Num : \n",
            "10\n",
            "Num : \n",
            "20\n",
            "Num : \n",
            "30\n",
            "Num : \n",
            "15\n",
            "Num : \n",
            "25\n",
            "Num : \n",
            "35\n",
            "Num : \n",
            "60\n",
            "Num : \n",
            "75\n",
            "Num : \n",
            "11\n",
            "Num : \n",
            "5\n",
            "[10, 20, 30, 15, 25, 35, 60, 75, 11, 5]\n",
            "[5, 10, 11, 15, 20, 25, 30, 35, 60, 75]\n",
            "[75, 60, 35, 30, 25, 20, 15, 11, 10, 5]\n"
          ]
        }
      ]
    }
  ]
}